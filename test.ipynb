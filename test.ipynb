{
 "cells": [
  {
   "cell_type": "code",
   "execution_count": 2,
   "metadata": {},
   "outputs": [],
   "source": [
    "# from utils import split_msg\n",
    "msg = '''The Tarot deck's Major Arcana card, the Ten of Wands, often symbolizes the burden of responsibility and hard work. The Fool, a card from the Major Arcana, represents new beginnings, optimism, and taking a leap of faith. The Two of Cups, a Minor Arcana card, indicates emotional connections and harmony, possibly hinting at romance or a creative partnership. The Queen of Swords, another Minor Arcana card, portrays a thoughtful and strategic individual who relies on her sharp analysis and logic. This queen represents someone who is in control, independent, and direct in communication. The Tower, a dramatic Major Arcana card, signifies a sudden and significant change that could alter your perspective or life path. It often indicates a crisis or pivotal event that leads to a breakthrough or a fall from grace. \n",
    "\n",
    "Considering all the cards you drew, the reading suggests that you are currently shouldering a heavy burden of responsibility, but a new beginning or a fresh perspective is within sight. This new beginning could bring a sense of foolishness or naivety, in a positive sense, allowing you to approach challenges with optimism and an open mind. The Two of Cups hints at the possibility of love or a meaningful partnership, while the Queen of Swords advises you to stay mindful, plan carefully, and communicate clearly during this transitional phase. \n",
    "\n",
    "The Tower card's presence is a stark reminder that unexpected changes are coming, which could lead to a major shift in your life. This could involve a change of direction, a break from the past, or a sudden revelation that opens new doors. Be prepared for the unexpected and try not to resist these changes as they may ultimately benefit you. This reading encourages you to embrace the future with a mix of cautious optimism, clear thinking, and an open heart. You may experience a thrilling new beginning or a deep connection with someone, but always be aware of the potential for sudden shifts in your circumstances.'''\n",
    "\n",
    "msg += msg"
   ]
  },
  {
   "cell_type": "code",
   "execution_count": 4,
   "metadata": {},
   "outputs": [
    {
     "data": {
      "text/plain": [
       "3966"
      ]
     },
     "execution_count": 4,
     "metadata": {},
     "output_type": "execute_result"
    }
   ],
   "source": [
    "len(msg)"
   ]
  },
  {
   "cell_type": "code",
   "execution_count": 7,
   "metadata": {},
   "outputs": [
    {
     "name": "stdout",
     "output_type": "stream",
     "text": [
      "The Tarot deck's Major Arcana card, the Ten of Wands, often symbolizes the burden of responsibility and hard work. The Fool, a card from the Major Arcana, represents new beginnings, optimism, and taking a leap of faith. The Two of Cups, a Minor Arcana card, indicates emotional connections and harmony, possibly hinting at romance or a creative partnership. The Queen of Swords, another Minor Arcana card, portrays a thoughtful and strategic individual who relies on her sharp analysis and logic. This queen represents someone who is in control, independent, and direct in communication. The Tower, a dramatic Major Arcana card, signifies a sudden and significant change that could alter your perspective or life path. It often indicates a crisis or pivotal event that leads to a breakthrough or a fall from grace.\n",
      " \n",
      "\n",
      "Considering all the cards you drew, the reading suggests that you are currently shouldering a heavy burden of responsibility, but a new beginning or a fresh perspective is within sight. This new beginning could bring a sense of foolishness or naivety, in a positive sense, allowing you to approach challenges with optimism and an open mind. The Two of Cups hints at the possibility of love or a meaningful partnership, while the Queen of Swords advises you to stay mindful, plan carefully, and communicate clearly during this transitional phase. \n",
      "\n",
      "The Tower card's presence is a stark reminder that unexpected changes are coming, which could lead to a major shift in your life. This could involve a change of direction, a break from the past, or a sudden revelation that opens new doors. Be prepared for the unexpected and try not to resist these changes as they may ultimately benefit you.\n",
      " This reading encourages you to embrace the future with a mix of cautious optimism, clear thinking, and an open heart. You may experience a thrilling new beginning or a deep connection with someone, but always be aware of the potential for sudden shifts in your circumstances.The Tarot deck's Major Arcana card, the Ten of Wands, often symbolizes the burden of responsibility and hard work. The Fool, a card from the Major Arcana, represents new beginnings, optimism, and taking a leap of faith. The Two of Cups, a Minor Arcana card, indicates emotional connections and harmony, possibly hinting at romance or a creative partnership. The Queen of Swords, another Minor Arcana card, portrays a thoughtful and strategic individual who relies on her sharp analysis and logic. This queen represents someone who is in control, independent, and direct in communication. The Tower, a dramatic Major Arcana card, signifies a sudden and significant change that could alter your perspective or life path.\n",
      " It often indicates a crisis or pivotal event that leads to a breakthrough or a fall from grace. \n",
      "\n",
      "Considering all the cards you drew, the reading suggests that you are currently shouldering a heavy burden of responsibility, but a new beginning or a fresh perspective is within sight. This new beginning could bring a sense of foolishness or naivety, in a positive sense, allowing you to approach challenges with optimism and an open mind. The Two of Cups hints at the possibility of love or a meaningful partnership, while the Queen of Swords advises you to stay mindful, plan carefully, and communicate clearly during this transitional phase. \n",
      "\n",
      "The Tower card's presence is a stark reminder that unexpected changes are coming, which could lead to a major shift in your life. This could involve a change of direction, a break from the past, or a sudden revelation that opens new doors. Be prepared for the unexpected and try not to resist these changes as they may ultimately benefit you.\n",
      " This reading encourages you to embrace the future with a mix of cautious optimism, clear thinking, and an open heart. You may experience a thrilling new beginning or a deep connection with someone, but always be aware of the potential for sudden shifts in your circumstances.\n"
     ]
    }
   ],
   "source": [
    "\n",
    "msgs = split_msg(msg)\n",
    "for i in range(len(msgs)):\n",
    "    input()\n",
    "    print(msgs[i])"
   ]
  }
 ],
 "metadata": {
  "kernelspec": {
   "display_name": "Python 3",
   "language": "python",
   "name": "python3"
  },
  "language_info": {
   "codemirror_mode": {
    "name": "ipython",
    "version": 3
   },
   "file_extension": ".py",
   "mimetype": "text/x-python",
   "name": "python",
   "nbconvert_exporter": "python",
   "pygments_lexer": "ipython3",
   "version": "3.9.13"
  }
 },
 "nbformat": 4,
 "nbformat_minor": 2
}
